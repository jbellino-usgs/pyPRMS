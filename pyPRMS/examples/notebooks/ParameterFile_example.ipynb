{
 "cells": [
  {
   "cell_type": "markdown",
   "metadata": {},
   "source": [
    "# **pyPRMS**\n",
    "## ParameterFile Example\n",
    "This example notebook demonstrates how to read a PRMS parameter file using the `pyPRMS.parfile.ParameterFile` class to view and manipulate parameters and dimensions."
   ]
  },
  {
   "cell_type": "code",
   "execution_count": 1,
   "metadata": {},
   "outputs": [],
   "source": [
    "# First import modules\n",
    "import os\n",
    "from pyPRMS.parfile import ParameterFile\n",
    "\n",
    "# Define a function to return the first n items of a dict\n",
    "def take(n, iterable):\n",
    "    \"\"\"\n",
    "    Return first n items of the iterable as a list\n",
    "    \"\"\"\n",
    "    from itertools import islice\n",
    "    if n is None:\n",
    "        n = len(iterable)\n",
    "    return list(islice(iterable, n))"
   ]
  },
  {
   "cell_type": "markdown",
   "metadata": {},
   "source": [
    "Load the parameter file using the `ParameterFile` class so we can look at it's contents"
   ]
  },
  {
   "cell_type": "code",
   "execution_count": 2,
   "metadata": {},
   "outputs": [],
   "source": [
    "datpth = os.path.join('..', 'data')\n",
    "fname = os.path.join(datpth, 'acf', 'input', 'acf.params')   \n",
    "pf = ParameterFile(fname)"
   ]
  },
  {
   "cell_type": "markdown",
   "metadata": {},
   "source": [
    "## Parameters\n",
    "Use the \"parameters\" attribute of the ParameterFile object to see what parameters are in this file. This returns a pyPRMS.ParameterDict object; this is an OrderedDict object with extended functionality pertaining to pyPRMS parameters."
   ]
  },
  {
   "cell_type": "code",
   "execution_count": 3,
   "metadata": {},
   "outputs": [
    {
     "name": "stdout",
     "output_type": "stream",
     "text": [
      "96\n"
     ]
    },
    {
     "data": {
      "text/plain": [
       "pyPRMS.parbase.ParameterDict"
      ]
     },
     "execution_count": 3,
     "metadata": {},
     "output_type": "execute_result"
    }
   ],
   "source": [
    "print(len(pf.parameters))\n",
    "type(pf.parameters)"
   ]
  },
  {
   "cell_type": "code",
   "execution_count": 4,
   "metadata": {},
   "outputs": [
    {
     "data": {
      "text/plain": [
       "[('smidx_exp', <pyPRMS.parbase.Parameter at 0x18b18a279b0>),\n",
       " ('den_init', <pyPRMS.parbase.Parameter at 0x18b18a27a20>),\n",
       " ('dprst_frac_open', <pyPRMS.parbase.Parameter at 0x18b18a27ac8>),\n",
       " ('soil_moist_init_frac', <pyPRMS.parbase.Parameter at 0x18b18a27b70>),\n",
       " ('elev_units', <pyPRMS.parbase.Parameter at 0x18b18a27c18>),\n",
       " ('sro_to_dprst_imperv', <pyPRMS.parbase.Parameter at 0x18b18a27cc0>),\n",
       " ('ssstor_init_frac', <pyPRMS.parbase.Parameter at 0x18b18a27d68>),\n",
       " ('hru_lat', <pyPRMS.parbase.Parameter at 0x18b18a27e10>),\n",
       " ('melt_force', <pyPRMS.parbase.Parameter at 0x18b18a27eb8>),\n",
       " ('carea_max', <pyPRMS.parbase.Parameter at 0x18b18a27f60>),\n",
       " ('hru_slope', <pyPRMS.parbase.Parameter at 0x18b18a32048>),\n",
       " ('pref_flow_den', <pyPRMS.parbase.Parameter at 0x18b18a320f0>),\n",
       " ('obsin_segment', <pyPRMS.parbase.Parameter at 0x18b18a32198>),\n",
       " ('obsout_segment', <pyPRMS.parbase.Parameter at 0x18b18a32240>),\n",
       " ('segment_type', <pyPRMS.parbase.Parameter at 0x18b18a322e8>),\n",
       " ('potet_sublim', <pyPRMS.parbase.Parameter at 0x18b18a32390>),\n",
       " ('tstorm_mo', <pyPRMS.parbase.Parameter at 0x18b18a32438>),\n",
       " ('den_max', <pyPRMS.parbase.Parameter at 0x18b18a324e0>),\n",
       " ('adjmix_rain', <pyPRMS.parbase.Parameter at 0x18b18a32588>),\n",
       " ('temp_units', <pyPRMS.parbase.Parameter at 0x18b18a32630>)]"
      ]
     },
     "execution_count": 4,
     "metadata": {},
     "output_type": "execute_result"
    }
   ],
   "source": [
    "# Look at the first 20 parameters\n",
    "take(20, pf.parameters.items())"
   ]
  },
  {
   "cell_type": "markdown",
   "metadata": {},
   "source": [
    "Parameters can be accessed from the ParameterDict using bracket (`[]`) notation"
   ]
  },
  {
   "cell_type": "code",
   "execution_count": 5,
   "metadata": {},
   "outputs": [
    {
     "name": "stdout",
     "output_type": "stream",
     "text": [
      "name: hru_lat\n",
      "datatype: 2\n",
      "units: None\n",
      "ndims: 1\n",
      "description: None\n",
      "help: None\n",
      "Size of data: 258\n",
      "Dimensions:\n",
      "nhru: Dimension(name=nhru, size=258)\n",
      "\n"
     ]
    }
   ],
   "source": [
    "print(pf.parameters['hru_lat'])"
   ]
  },
  {
   "cell_type": "markdown",
   "metadata": {},
   "source": [
    "Or they can be accesed using dot (`.`) notation"
   ]
  },
  {
   "cell_type": "code",
   "execution_count": 6,
   "metadata": {},
   "outputs": [
    {
     "name": "stdout",
     "output_type": "stream",
     "text": [
      "name: hru_lat\n",
      "datatype: 2\n",
      "units: None\n",
      "ndims: 1\n",
      "description: None\n",
      "help: None\n",
      "Size of data: 258\n",
      "Dimensions:\n",
      "nhru: Dimension(name=nhru, size=258)\n",
      "\n"
     ]
    }
   ],
   "source": [
    "print(pf.parameters.hru_lat)"
   ]
  },
  {
   "cell_type": "markdown",
   "metadata": {},
   "source": [
    "We can access the various attributes of the parameter objects"
   ]
  },
  {
   "cell_type": "code",
   "execution_count": 7,
   "metadata": {},
   "outputs": [
    {
     "name": "stdout",
     "output_type": "stream",
     "text": [
      "('hru_lat', 2, None, 1) \n",
      "\n",
      "[34.66746902 34.76779175 34.75077057 34.65137863 34.62498093 34.62641907\n",
      " 34.57146835 34.53718948 34.49216843 34.44527817] \n",
      "\n",
      "     hru_lat\n",
      "0  34.667469\n",
      "1  34.767792\n",
      "2  34.750771\n",
      "3  34.651379\n",
      "4  34.624981\n",
      "5  34.626419\n",
      "6  34.571468\n",
      "7  34.537189\n",
      "8  34.492168\n",
      "9  34.445278\n"
     ]
    }
   ],
   "source": [
    "par = pf.parameters.hru_lat\n",
    "\n",
    "print((par.name, par.datatype, par.units, par.ndims), '\\n')\n",
    "\n",
    "# Access parameter data arrays\n",
    "print(par.data[:10], '\\n')\n",
    "\n",
    "# Display parameter data as a Pandas.DataFrame\n",
    "print(par.as_dataframe.head(10))"
   ]
  },
  {
   "cell_type": "markdown",
   "metadata": {},
   "source": [
    "## Dimensions\n",
    "Use the \"dimensions\" attribute of the ParameterFile object to see what dimensions are used by parameters this file. This returns a pyPRMS.DimensionDict object; this is an OrderedDict object with extended functionality pertaining to pyPRMS dimensions."
   ]
  },
  {
   "cell_type": "code",
   "execution_count": 8,
   "metadata": {},
   "outputs": [
    {
     "name": "stdout",
     "output_type": "stream",
     "text": [
      "13\n"
     ]
    },
    {
     "data": {
      "text/plain": [
       "pyPRMS.dimbase.DimensionDict"
      ]
     },
     "execution_count": 8,
     "metadata": {},
     "output_type": "execute_result"
    }
   ],
   "source": [
    "print(len(pf.dimensions))\n",
    "type(pf.dimensions)"
   ]
  },
  {
   "cell_type": "code",
   "execution_count": 9,
   "metadata": {},
   "outputs": [
    {
     "data": {
      "text/plain": [
       "[('nmonths', Dimension(name=nmonths, size=12)),\n",
       " ('nrain', Dimension(name=nrain, size=79)),\n",
       " ('ntemp', Dimension(name=ntemp, size=79)),\n",
       " ('nssr', Dimension(name=nssr, size=258)),\n",
       " ('ndays', Dimension(name=ndays, size=366)),\n",
       " ('nsegment', Dimension(name=nsegment, size=130)),\n",
       " ('one', Dimension(name=one, size=1)),\n",
       " ('ndepl', Dimension(name=ndepl, size=2)),\n",
       " ('nsub', Dimension(name=nsub, size=0)),\n",
       " ('nobs', Dimension(name=nobs, size=58)),\n",
       " ('ndeplval', Dimension(name=ndeplval, size=22)),\n",
       " ('nhru', Dimension(name=nhru, size=258)),\n",
       " ('ngw', Dimension(name=ngw, size=258))]"
      ]
     },
     "execution_count": 9,
     "metadata": {},
     "output_type": "execute_result"
    }
   ],
   "source": [
    "# Look at all dimensions\n",
    "take(None, pf.dimensions.items())"
   ]
  },
  {
   "cell_type": "markdown",
   "metadata": {},
   "source": [
    "Attributes of the dimension objects can be accessed in the same way as the parameter objects demonstrated above"
   ]
  },
  {
   "cell_type": "code",
   "execution_count": 10,
   "metadata": {},
   "outputs": [
    {
     "name": "stdout",
     "output_type": "stream",
     "text": [
      "('ntemp', 79, None)\n"
     ]
    }
   ],
   "source": [
    "dim = pf.dimensions.ntemp\n",
    "print((dim.name, dim.size, dim.description))"
   ]
  }
 ],
 "metadata": {
  "kernelspec": {
   "display_name": "Python 3",
   "language": "python",
   "name": "python3"
  },
  "language_info": {
   "codemirror_mode": {
    "name": "ipython",
    "version": 3
   },
   "file_extension": ".py",
   "mimetype": "text/x-python",
   "name": "python",
   "nbconvert_exporter": "python",
   "pygments_lexer": "ipython3",
   "version": "3.7.3"
  }
 },
 "nbformat": 4,
 "nbformat_minor": 4
}
